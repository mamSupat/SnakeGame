{
 "cells": [
  {
   "cell_type": "code",
   "execution_count": 2,
   "metadata": {
    "polyglot_notebook": {
     "kernelName": "mermaid"
    }
   },
   "outputs": [
    {
     "data": {
      "text/html": [
       "<div class=\"mermaidMarkdownContainer\" style=\"background-color:white\">\r\n",
       "<link rel=\"stylesheet\" href=\"https://cdnjs.cloudflare.com/ajax/libs/font-awesome/6.2.0/css/all.min.css\">\r\n",
       "<div id=\"6a7c05620fa743e6ad0b41632b52b31a\"></div>\r\n",
       "<script type=\"module\">\r\n",
       "\r\n",
       "            import mermaid from 'https://cdn.jsdelivr.net/npm/mermaid@10.6.1/dist/mermaid.esm.min.mjs';\r\n",
       "            let renderTarget = document.getElementById('6a7c05620fa743e6ad0b41632b52b31a');\r\n",
       "            try {\r\n",
       "                const {svg, bindFunctions} = await mermaid.mermaidAPI.render( \r\n",
       "                    'mermaid_6a7c05620fa743e6ad0b41632b52b31a', \r\n",
       "                    `graph TD;\r\n",
       "    A[เริ่มต้นเกม] -->|สร้างตาราง Grid| B[กำหนดขนาดกระดาน]\r\n",
       "    B --> C[สร้างงูเริ่มต้น]\r\n",
       "    C --> D[สุ่มตำแหน่งอาหาร]\r\n",
       "    C --> E[สร้างสิ่งกีดขวาง 5 ชิ้น]\r\n",
       "    E -->|เริ่มตัวจับเวลา| F[เปลี่ยนตำแหน่งสิ่งกีดขวางทุก 10 วิ]\r\n",
       "    \r\n",
       "    subgraph \"วงจรการเล่นเกม\"\r\n",
       "        G[รับอินพุตผู้เล่น]\r\n",
       "        G --> H[เปลี่ยนทิศทางงู]\r\n",
       "        H --> I[คำนวณตำแหน่งหัวงูใหม่]\r\n",
       "        I --> J[ตรวจสอบการชน]\r\n",
       "        J -->|ชนขอบสนามหรืองูตัวเอง| K[จบเกม]\r\n",
       "        J -->|ชนอาหาร| L[เพิ่มคะแนน & สร้างอาหารใหม่]\r\n",
       "        J -->|ชนสิ่งกีดขวาง| K\r\n",
       "        J -->|ไม่ชนอะไร| M[เลื่อนตำแหน่งงู]\r\n",
       "        M -->|ลบหางงู| N[อัปเดตตาราง Grid]\r\n",
       "        L --> M\r\n",
       "    end\r\n",
       "\r\n",
       "    K -->|หยุดตัวจับเวลา| O[จบเกม]\r\n",
       "    O -->|รีสตาร์ทได้| A\r\n",
       "`);\r\n",
       "                renderTarget.innerHTML = svg;\r\n",
       "                bindFunctions?.(renderTarget);\r\n",
       "            }\r\n",
       "            catch (error) {\r\n",
       "                console.log(error);\r\n",
       "            }\r\n",
       "</script>\r\n",
       "</div>\r\n"
      ]
     },
     "metadata": {},
     "output_type": "display_data"
    }
   ],
   "source": [
    "graph TD;\n",
    "    A[เริ่มต้นเกม] -->|สร้างตาราง Grid| B[กำหนดขนาดกระดาน]\n",
    "    B --> C[สร้างงูเริ่มต้น]\n",
    "    C --> D[สุ่มตำแหน่งอาหาร]\n",
    "    C --> E[สร้างสิ่งกีดขวาง 5 ชิ้น]\n",
    "    E -->|เริ่มตัวจับเวลา| F[เปลี่ยนตำแหน่งสิ่งกีดขวางทุก 10 วิ]\n",
    "    \n",
    "    subgraph \"วงจรการเล่นเกม\"\n",
    "        G[รับอินพุตผู้เล่น]\n",
    "        G --> H[เปลี่ยนทิศทางงู]\n",
    "        H --> I[คำนวณตำแหน่งหัวงูใหม่]\n",
    "        I --> J[ตรวจสอบการชน]\n",
    "        J -->|ชนขอบสนามหรืองูตัวเอง| K[จบเกม]\n",
    "        J -->|ชนอาหาร| L[เพิ่มคะแนน & สร้างอาหารใหม่]\n",
    "        J -->|ชนสิ่งกีดขวาง| K\n",
    "        J -->|ไม่ชนอะไร| M[เลื่อนตำแหน่งงู]\n",
    "        M -->|ลบหางงู| N[อัปเดตตาราง Grid]\n",
    "        L --> M\n",
    "    end\n",
    "\n",
    "    K -->|หยุดตัวจับเวลา| O[จบเกม]\n",
    "    O -->|รีสตาร์ทได้| A\n"
   ]
  }
 ],
 "metadata": {
  "kernelspec": {
   "display_name": ".NET (C#)",
   "language": "C#",
   "name": ".net-csharp"
  },
  "polyglot_notebook": {
   "kernelInfo": {
    "defaultKernelName": "mermaid",
    "items": [
     {
      "aliases": [],
      "languageName": "mermaid",
      "name": "mermaid"
     }
    ]
   }
  }
 },
 "nbformat": 4,
 "nbformat_minor": 2
}
